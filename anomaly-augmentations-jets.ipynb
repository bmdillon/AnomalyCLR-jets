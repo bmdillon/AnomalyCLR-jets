{
 "cells": [
  {
   "cell_type": "markdown",
   "metadata": {},
   "source": [
    "# AnomalyCLR for jet physics"
   ]
  },
  {
   "cell_type": "code",
   "execution_count": 1,
   "metadata": {},
   "outputs": [],
   "source": [
    "import sys\n",
    "import os\n",
    "import numpy as np\n",
    "\n",
    "from matplotlib import pyplot as plt\n",
    "import colorsys\n",
    "import matplotlib\n",
    "from matplotlib.lines import Line2D\n",
    "from matplotlib.font_manager import FontProperties\n",
    "\n",
    "\n",
    "import torch\n",
    "import random\n",
    "\n",
    "from jet_augs import *"
   ]
  },
  {
   "cell_type": "code",
   "execution_count": 2,
   "metadata": {},
   "outputs": [],
   "source": [
    "labelfont = FontProperties()\n",
    "labelfont.set_family('serif')\n",
    "labelfont.set_name('Times New Roman')\n",
    "labelfont.set_size(14)\n",
    "\n",
    "axislabelfont = FontProperties()\n",
    "axislabelfont.set_family('serif')\n",
    "axislabelfont.set_name('Times New Roman')\n",
    "axislabelfont.set_size(22)\n",
    "\n",
    "tickfont = FontProperties()\n",
    "tickfont.set_family('serif')\n",
    "tickfont.set_name('Times New Roman')\n",
    "tickfont.set_size(16)\n",
    "\n",
    "axisfontsize = 16\n",
    "labelfontsize = 16\n",
    "\n",
    "plt.rcParams[\"font.family\"] = \"Times New Roman\"\n",
    "plt.rcParams[\"mathtext.default\"] = \"rm\"\n",
    "plt.rcParams['text.usetex'] = True"
   ]
  },
  {
   "cell_type": "markdown",
   "metadata": {},
   "source": [
    "Below we load the data from the top tagging challenge."
   ]
  },
  {
   "cell_type": "code",
   "execution_count": 3,
   "metadata": {},
   "outputs": [],
   "source": [
    "qcd = np.load( \"../rep-learning/qcd_100k_constit.npy\" )\n",
    "top = np.load( \"../rep-learning/top_100k_constit.npy\" )"
   ]
  },
  {
   "cell_type": "code",
   "execution_count": 4,
   "metadata": {},
   "outputs": [
    {
     "data": {
      "text/plain": [
       "(100000, 3, 200)"
      ]
     },
     "execution_count": 4,
     "metadata": {},
     "output_type": "execute_result"
    }
   ],
   "source": [
    "qcd.shape"
   ]
  },
  {
   "cell_type": "code",
   "execution_count": 5,
   "metadata": {},
   "outputs": [
    {
     "data": {
      "text/plain": [
       "(100000, 3, 200)"
      ]
     },
     "execution_count": 5,
     "metadata": {},
     "output_type": "execute_result"
    }
   ],
   "source": [
    "top.shape"
   ]
  },
  {
   "cell_type": "markdown",
   "metadata": {},
   "source": [
    "# Augmentations"
   ]
  },
  {
   "cell_type": "markdown",
   "metadata": {},
   "source": [
    "Here we look at two simple augmentations from the JetCLR work that the jets should be (approximately) invariant to."
   ]
  },
  {
   "cell_type": "markdown",
   "metadata": {},
   "source": [
    "## rotations"
   ]
  },
  {
   "cell_type": "code",
   "execution_count": 6,
   "metadata": {},
   "outputs": [
    {
     "data": {
      "image/png": "[encoded data removed]",
      "text/plain": [
       "<Figure size 792x360 with 2 Axes>"
      ]
     },
     "metadata": {
      "needs_background": "light"
     },
     "output_type": "display_data"
    }
   ],
   "source": [
    "fig, axs = plt.subplots( 1, 2, figsize=(11,5) )\n",
    "\n",
    "j=4\n",
    "jet1 = top[j]\n",
    "jet2 = rotate_jets(top)[j]\n",
    "\n",
    "axs[0].scatter( jet1[1,:], jet1[2,:], s=jet1[0,:], c=\"green\" )\n",
    "axs[1].scatter( jet2[1,:], jet2[2,:], s=jet2[0,:], c=\"green\" )\n",
    "\n",
    "axs[0].axis('square')\n",
    "axs[1].axis('square')\n",
    "\n",
    "axs[0].set_xlim((-1.0,1.0))\n",
    "axs[0].set_ylim((-1.0,1.0))\n",
    "axs[1].set_xlim((-1.0,1.0))\n",
    "axs[1].set_ylim((-1.0,1.0))\n",
    "\n",
    "axs[0].set_xlabel( \"$\\eta$\", fontproperties=axislabelfont)\n",
    "axs[0].set_ylabel( \"$\\phi$\", fontproperties=axislabelfont)\n",
    "axs[1].set_xlabel( \"$\\eta$\", fontproperties=axislabelfont)\n",
    "axs[1].set_ylabel( \"$\\phi$\", fontproperties=axislabelfont)\n",
    "\n",
    "axs[0].set_xticks( [ -1.0, -0.5, 0.0, 0.5, 1.0 ] )\n",
    "axs[0].set_xticklabels( [ -1.0, -0.5, 0.0, 0.5, 1.0 ], fontproperties=tickfont )\n",
    "axs[1].set_xticks( [ -1.0, -0.5, 0.0, 0.5, 1.0 ] )\n",
    "axs[1].set_xticklabels( [ -1.0, -0.5, 0.0, 0.5, 1.0 ], fontproperties=tickfont )\n",
    "\n",
    "axs[0].set_yticks( [ -1.0, -0.5, 0.0, 0.5, 1.0 ] )\n",
    "axs[0].set_yticklabels( [ -1.0, -0.5, 0.0, 0.5, 1.0 ], fontproperties=tickfont )\n",
    "axs[1].set_yticks( [ -1.0, -0.5, 0.0, 0.5, 1.0 ] )\n",
    "axs[1].set_yticklabels( [ -1.0, -0.5, 0.0, 0.5, 1.0 ], fontproperties=tickfont );"
   ]
  },
  {
   "cell_type": "markdown",
   "metadata": {},
   "source": [
    "## $\\eta\\!-\\!\\phi$ smearing"
   ]
  },
  {
   "cell_type": "code",
   "execution_count": 8,
   "metadata": {},
   "outputs": [
    {
     "data": {
      "image/png": "[encoded data removed]",
      "text/plain": [
       "<Figure size 792x360 with 2 Axes>"
      ]
     },
     "metadata": {
      "needs_background": "light"
     },
     "output_type": "display_data"
    }
   ],
   "source": [
    "fig, axs = plt.subplots( 1, 2, figsize=(11,5) )\n",
    "\n",
    "j=4\n",
    "jet1 = top[j]\n",
    "jet2 = distort_jets(top)[j]\n",
    "\n",
    "axs[0].scatter( jet1[1,:], jet1[2,:], s=jet1[0,:], c=\"green\" )\n",
    "axs[1].scatter( jet2[1,:], jet2[2,:], s=jet2[0,:], c=\"green\" )\n",
    "\n",
    "axs[0].axis('square')\n",
    "axs[1].axis('square')\n",
    "\n",
    "axs[0].set_xlim((-1.0,1.0))\n",
    "axs[0].set_ylim((-1.0,1.0))\n",
    "axs[1].set_xlim((-1.0,1.0))\n",
    "axs[1].set_ylim((-1.0,1.0))\n",
    "\n",
    "axs[0].set_xlabel( \"$\\eta$\", fontproperties=axislabelfont)\n",
    "axs[0].set_ylabel( \"$\\phi$\", fontproperties=axislabelfont)\n",
    "axs[1].set_xlabel( \"$\\eta$\", fontproperties=axislabelfont)\n",
    "axs[1].set_ylabel( \"$\\phi$\", fontproperties=axislabelfont)\n",
    "\n",
    "axs[0].set_xticks( [ -1.0, -0.5, 0.0, 0.5, 1.0 ] )\n",
    "axs[0].set_xticklabels( [ -1.0, -0.5, 0.0, 0.5, 1.0 ], fontproperties=tickfont )\n",
    "axs[1].set_xticks( [ -1.0, -0.5, 0.0, 0.5, 1.0 ] )\n",
    "axs[1].set_xticklabels( [ -1.0, -0.5, 0.0, 0.5, 1.0 ], fontproperties=tickfont )\n",
    "\n",
    "axs[0].set_yticks( [ -1.0, -0.5, 0.0, 0.5, 1.0 ] )\n",
    "axs[0].set_yticklabels( [ -1.0, -0.5, 0.0, 0.5, 1.0 ], fontproperties=tickfont )\n",
    "axs[1].set_yticks( [ -1.0, -0.5, 0.0, 0.5, 1.0 ] )\n",
    "axs[1].set_yticklabels( [ -1.0, -0.5, 0.0, 0.5, 1.0 ], fontproperties=tickfont );"
   ]
  },
  {
   "cell_type": "markdown",
   "metadata": {},
   "source": [
    "# Anomaly augmentations"
   ]
  },
  {
   "cell_type": "markdown",
   "metadata": {},
   "source": [
    "Here we define the anomaly augmentations for producing highly expressive jet representations sensitive to potential anomalous new physics signals."
   ]
  },
  {
   "cell_type": "markdown",
   "metadata": {},
   "source": [
    "We will need the two functions below to standardize the jets after the augmentations have been applied."
   ]
  },
  {
   "cell_type": "code",
   "execution_count": 10,
   "metadata": {},
   "outputs": [],
   "source": [
    "def rescale_pt(dataset):\n",
    "    for i in range(0, dataset.shape[0]):\n",
    "        dataset[i,0,:] = dataset[i,0,:]/600\n",
    "    return dataset"
   ]
  },
  {
   "cell_type": "code",
   "execution_count": 11,
   "metadata": {},
   "outputs": [],
   "source": [
    "def recentre_jet(batch):\n",
    "    batchc = batch.copy()\n",
    "    nj = batch.shape[0]\n",
    "    for i in range( nj ):\n",
    "        pts = batch[i,0,:]\n",
    "        etas = batch[i,1,:]\n",
    "        phis = batch[i,2,:]\n",
    "        nc = len( pts )\n",
    "        eta_shift = np.sum( [ pts[j]*etas[j] for j in range( nc ) ] ) / np.sum( pts )\n",
    "        phi_shift = np.sum( [ pts[j]*phis[j] for j in range( nc ) ] ) / np.sum( pts )\n",
    "        batchc[i,1,:] = batch[i,1,:] - eta_shift\n",
    "        batchc[i,2,:] = batch[i,2,:] - phi_shift\n",
    "    return batchc"
   ]
  },
  {
   "cell_type": "markdown",
   "metadata": {},
   "source": [
    "\n",
    "## anomaly augmentations - drop constituents"
   ]
  },
  {
   "cell_type": "markdown",
   "metadata": {},
   "source": [
    "This augmentaion can be used to mimic what might be observed in semi-visible jets arising from dark matter models.  Constituents are dropped on a random basis, which is currently done independently of the constituents $p_T$.  It would be easy to make this random selection $p_T$ dependent however."
   ]
  },
  {
   "cell_type": "code",
   "execution_count": 12,
   "metadata": {},
   "outputs": [],
   "source": [
    "def drop_constits_jet( batch, prob=0.3 ):\n",
    "    '''\n",
    "    Input: batch of jets, shape (batchsize, 3, n_constit)\n",
    "    Dim 1 ordering: (pT, eta, phi)\n",
    "    Output: batch of jets where each jet has some fraction of missing constituents\n",
    "    Note: rescale pts so that the augmented jet pt matches the original\n",
    "    '''\n",
    "    batchc = batch.copy()\n",
    "    nj = batchc.shape[0]\n",
    "    nc = batchc.shape[2]\n",
    "    nzs = np.array( [ np.where( batchc[:,0,:]>0.0 )[0].shape[0] for i in range(len(batch)) ] )\n",
    "    mask = np.array( np.random.rand( nj, nc ) > prob, dtype='int' )\n",
    "    for i in range( nj ):\n",
    "        for j in range( nc ):\n",
    "            if mask[i][j]==0:\n",
    "                batchc[i,:,j] = np.array([0.0,0.0,0.0])\n",
    "    pts = np.sum( batch[:,0,:], axis=1 )\n",
    "    pts_aug = np.sum( batchc[:,0,:], axis=1 )\n",
    "    pt_rescale = [ pts[i]/pts_aug[i] for i in range(nj) ]\n",
    "    for i in range(nj):\n",
    "        batchc[i,0,:] = batchc[i,0,:]*pt_rescale[i]\n",
    "    return recentre_jet( batchc )"
   ]
  },
  {
   "cell_type": "code",
   "execution_count": 13,
   "metadata": {},
   "outputs": [
    {
     "data": {
      "text/plain": [
       "Text(-0.95, 0.95, 'constit-drop, \\\\texttt{prob}$=\\\\!0.6$')"
      ]
     },
     "execution_count": 13,
     "metadata": {},
     "output_type": "execute_result"
    },
    {
     "data": {
      "image/png": "[encoded data removed]",
      "text/plain": [
       "<Figure size 1296x360 with 3 Axes>"
      ]
     },
     "metadata": {
      "needs_background": "light"
     },
     "output_type": "display_data"
    }
   ],
   "source": [
    "fig, axs = plt.subplots( 1, 3, figsize=(18,5) )\n",
    "\n",
    "jets = qcd[0:100]\n",
    "j = 99\n",
    "jet1 = jets[j]\n",
    "jet2 = drop_constits_jet( jets, prob=0.4 )[j]\n",
    "jet3 = drop_constits_jet( jets, prob=0.6 )[j]\n",
    "\n",
    "axs[0].scatter( jet1[1,:], jet1[2,:], s=jet1[0,:], c=\"green\" )\n",
    "axs[1].scatter( jet2[1,:], jet2[2,:], s=jet2[0,:], c=\"green\" )\n",
    "axs[2].scatter( jet3[1,:], jet3[2,:], s=jet3[0,:], c=\"green\" )\n",
    "\n",
    "axs[0].axis('square')\n",
    "axs[1].axis('square')\n",
    "axs[2].axis('square')\n",
    "\n",
    "axs[0].set_xlim((-1.0,1.0))\n",
    "axs[0].set_ylim((-1.0,1.0))\n",
    "axs[1].set_xlim((-1.0,1.0))\n",
    "axs[1].set_ylim((-1.0,1.0))\n",
    "axs[2].set_xlim((-1.0,1.0))\n",
    "axs[2].set_ylim((-1.0,1.0))\n",
    "\n",
    "axs[0].set_xlabel( \"$\\eta$\", fontproperties=axislabelfont)\n",
    "axs[0].set_ylabel( \"$\\phi$\", fontproperties=axislabelfont)\n",
    "axs[1].set_xlabel( \"$\\eta$\", fontproperties=axislabelfont)\n",
    "axs[1].set_ylabel( \"$\\phi$\", fontproperties=axislabelfont)\n",
    "axs[2].set_xlabel( \"$\\eta$\", fontproperties=axislabelfont)\n",
    "axs[2].set_ylabel( \"$\\phi$\", fontproperties=axislabelfont)\n",
    "\n",
    "axs[0].set_xticks( [ -1.0, -0.5, 0.0, 0.5, 1.0 ] )\n",
    "axs[0].set_xticklabels( [ -1.0, -0.5, 0.0, 0.5, 1.0 ], fontproperties=tickfont )\n",
    "axs[1].set_xticks( [ -1.0, -0.5, 0.0, 0.5, 1.0 ] )\n",
    "axs[1].set_xticklabels( [ -1.0, -0.5, 0.0, 0.5, 1.0 ], fontproperties=tickfont )\n",
    "axs[2].set_xticks( [ -1.0, -0.5, 0.0, 0.5, 1.0 ] )\n",
    "axs[2].set_xticklabels( [ -1.0, -0.5, 0.0, 0.5, 1.0 ], fontproperties=tickfont )\n",
    "\n",
    "axs[0].set_yticks( [ -1.0, -0.5, 0.0, 0.5, 1.0 ] )\n",
    "axs[0].set_yticklabels( [ -1.0, -0.5, 0.0, 0.5, 1.0 ], fontproperties=tickfont )\n",
    "axs[1].set_yticks( [ -1.0, -0.5, 0.0, 0.5, 1.0 ] )\n",
    "axs[1].set_yticklabels( [ -1.0, -0.5, 0.0, 0.5, 1.0 ], fontproperties=tickfont )\n",
    "axs[2].set_yticks( [ -1.0, -0.5, 0.0, 0.5, 1.0 ] )\n",
    "axs[2].set_yticklabels( [ -1.0, -0.5, 0.0, 0.5, 1.0 ], fontproperties=tickfont )\n",
    "\n",
    "axs[0].text( -0.95, 0.95,  \"Original\", va='top', ha='left', fontproperties=tickfont )\n",
    "axs[1].text( -0.95, 0.95,  \"constit-drop, \\\\texttt{prob}$=\\!0.4$\", va='top', ha='left', fontproperties=tickfont )\n",
    "axs[2].text( -0.95, 0.95,  \"constit-drop, \\\\texttt{prob}$=\\!0.6$\", va='top', ha='left', fontproperties=tickfont )\n",
    "\n",
    "#fig.savefig(\"drop-constit-aug.pdf\");"
   ]
  },
  {
   "cell_type": "markdown",
   "metadata": {},
   "source": [
    "\n",
    "## anomaly augmentations - subjet shifts"
   ]
  },
  {
   "cell_type": "markdown",
   "metadata": {},
   "source": [
    "This augmentation can be used to mimic jets containing a heavy decaying particle, which produces a multi-prong jet shape.  The functions takes the number of subjets you want the augmentation to produce, along with a weight vector which determines how many constituents will belong to each cluster.  Currently, this selection is done without consideration of the constituents $p_T$, however it would be easy to make this $p_T$ dependent.  This could also be updated to select constituents based on locality rather than $p_T$."
   ]
  },
  {
   "cell_type": "code",
   "execution_count": 62,
   "metadata": {},
   "outputs": [],
   "source": [
    "def subjet_shift_jet( batch, nsubs=1, probs=[0.5], R=0.8 ):\n",
    "    '''\n",
    "    Input: batch of jets, shape (batchsize, 3, n_constit)\n",
    "    Dim 1 ordering: (pT, eta, phi)\n",
    "    Output: batch of jets where a subset of constituents have been shifted\n",
    "    Note: probs should be a vector of length nsubs, drop anything that falls outside the jet radius \n",
    "        and re-scale pts so that augmented jets have the same pTs as the originals,\n",
    "        so choose sensible parameters in the function.\n",
    "    '''\n",
    "    batchc = batch.copy()\n",
    "    nj = batchc.shape[0]\n",
    "    nc = batchc.shape[2]\n",
    "    eta_shifts = np.array( [ ( np.random.rand( nj ) - 0.5 )/(1*R) for i in range(nsubs) ] )\n",
    "    phi_shifts = np.array( [ ( np.random.rand( nj ) - 0.5 )/(1*R) for i in range(nsubs) ] )\n",
    "    masks = np.array( [ np.array( np.random.rand( nj, nc ) > probs[i], dtype='int' ) for i in range(nsubs) ] )\n",
    "    for i in range( nj ):\n",
    "        for j in range( nc ):\n",
    "            for k in range( nsubs ):\n",
    "                if np.all( np.array( [ masks[l][i][j] for l in range(k+1) ] ) == 0 ):\n",
    "                    batchc[i,1,j] = batchc[i,1,j] + eta_shifts[k][i]\n",
    "                    batchc[i,2,j] = batchc[i,2,j] + phi_shifts[k][i]\n",
    "    batchc = recentre_jet( batchc )\n",
    "    for i in range( nj ):\n",
    "        for j in range( nc ):\n",
    "            if np.sqrt( batchc[i,1,j]**2 + batchc[i,2,j]**2 ) > R:\n",
    "                batchc[i,:,j] = np.array( [0.0,0.0,0.0] )\n",
    "    pts = np.sum( batch[:,0,:], axis=1 )\n",
    "    pts_aug = np.sum( batchc[:,0,:], axis=1 )\n",
    "    pt_rescale = [ pts[i]/pts_aug[i] for i in range(nj) ]\n",
    "    for i in range(nj):\n",
    "        batchc[i,0,:] = batchc[i,0,:]*pt_rescale[i]\n",
    "    batchc = recentre_jet( batchc )\n",
    "    return batchc"
   ]
  },
  {
   "cell_type": "code",
   "execution_count": 67,
   "metadata": {},
   "outputs": [
    {
     "data": {
      "text/plain": [
       "Text(-0.95, 0.95, 'subjet-shift, \\\\texttt{nsub}$=\\\\!2$, \\\\texttt{probs}$=\\\\![0.5,0.5]$')"
      ]
     },
     "execution_count": 67,
     "metadata": {},
     "output_type": "execute_result"
    },
    {
     "data": {
      "image/png": "[encoded data removed]",
      "text/plain": [
       "<Figure size 1296x360 with 3 Axes>"
      ]
     },
     "metadata": {
      "needs_background": "light"
     },
     "output_type": "display_data"
    }
   ],
   "source": [
    "fig, axs = plt.subplots( 1, 3, figsize=(18,5) )\n",
    "\n",
    "jets = qcd[0:100]\n",
    "j = 77\n",
    "jet1 = jets[j]\n",
    "jet2 = subjet_shift_jet( jets, nsubs=1, probs=[0.5] )[j]\n",
    "jet3 = subjet_shift_jet( jets, nsubs=2, probs=[0.5,0.5] )[j]\n",
    "\n",
    "axs[0].scatter( jet1[1,:], jet1[2,:], s=jet1[0,:], c=\"green\" )\n",
    "axs[1].scatter( jet2[1,:], jet2[2,:], s=jet2[0,:], c=\"green\" )\n",
    "axs[2].scatter( jet3[1,:], jet3[2,:], s=jet3[0,:], c=\"green\" )\n",
    "\n",
    "axs[0].axis('square')\n",
    "axs[1].axis('square')\n",
    "axs[2].axis('square')\n",
    "\n",
    "axs[0].set_xlim((-1.0,1.0))\n",
    "axs[0].set_ylim((-1.0,1.0))\n",
    "axs[1].set_xlim((-1.0,1.0))\n",
    "axs[1].set_ylim((-1.0,1.0))\n",
    "axs[2].set_xlim((-1.0,1.0))\n",
    "axs[2].set_ylim((-1.0,1.0))\n",
    "\n",
    "axs[0].set_xlabel( \"$\\eta$\", fontproperties=axislabelfont)\n",
    "axs[0].set_ylabel( \"$\\phi$\", fontproperties=axislabelfont)\n",
    "axs[1].set_xlabel( \"$\\eta$\", fontproperties=axislabelfont)\n",
    "axs[1].set_ylabel( \"$\\phi$\", fontproperties=axislabelfont)\n",
    "axs[2].set_xlabel( \"$\\eta$\", fontproperties=axislabelfont)\n",
    "axs[2].set_ylabel( \"$\\phi$\", fontproperties=axislabelfont)\n",
    "\n",
    "axs[0].set_xticks( [ -1.0, -0.5, 0.0, 0.5, 1.0 ] )\n",
    "axs[0].set_xticklabels( [ -1.0, -0.5, 0.0, 0.5, 1.0 ], fontproperties=tickfont )\n",
    "axs[1].set_xticks( [ -1.0, -0.5, 0.0, 0.5, 1.0 ] )\n",
    "axs[1].set_xticklabels( [ -1.0, -0.5, 0.0, 0.5, 1.0 ], fontproperties=tickfont )\n",
    "axs[2].set_xticks( [ -1.0, -0.5, 0.0, 0.5, 1.0 ] )\n",
    "axs[2].set_xticklabels( [ -1.0, -0.5, 0.0, 0.5, 1.0 ], fontproperties=tickfont )\n",
    "\n",
    "axs[0].set_yticks( [ -1.0, -0.5, 0.0, 0.5, 1.0 ] )\n",
    "axs[0].set_yticklabels( [ -1.0, -0.5, 0.0, 0.5, 1.0 ], fontproperties=tickfont )\n",
    "axs[1].set_yticks( [ -1.0, -0.5, 0.0, 0.5, 1.0 ] )\n",
    "axs[1].set_yticklabels( [ -1.0, -0.5, 0.0, 0.5, 1.0 ], fontproperties=tickfont )\n",
    "axs[2].set_yticks( [ -1.0, -0.5, 0.0, 0.5, 1.0 ] )\n",
    "axs[2].set_yticklabels( [ -1.0, -0.5, 0.0, 0.5, 1.0 ], fontproperties=tickfont )\n",
    "\n",
    "axs[0].text( -0.95, 0.95,  \"Original\", va='top', ha='left', fontproperties=tickfont )\n",
    "axs[1].text( -0.95, 0.95,  \"subjet-shift, \\\\texttt{nsub}$=\\!1$, \\\\texttt{probs}$=\\![0.5]$\", va='top', ha='left', fontproperties=tickfont )\n",
    "axs[2].text( -0.95, 0.95,  \"subjet-shift, \\\\texttt{nsub}$=\\!2$, \\\\texttt{probs}$=\\![0.5,0.5]$\", va='top', ha='left', fontproperties=tickfont )\n",
    "\n",
    "#fig.savefig(\"subjet-shift-aug.pdf\");"
   ]
  },
  {
   "cell_type": "markdown",
   "metadata": {},
   "source": [
    "## anomaly augmentations - pT reweight"
   ]
  },
  {
   "cell_type": "markdown",
   "metadata": {},
   "source": [
    "Some jets from new physics models may produce jets whose momenta is distributed differently over the jets constituents, this augmentation is designed to mimic these effects."
   ]
  },
  {
   "cell_type": "code",
   "execution_count": 68,
   "metadata": {},
   "outputs": [],
   "source": [
    "def pt_reweight_jet( batch, beta=1.5 ):\n",
    "    '''\n",
    "    Input: batch of jets, shape (batchsize, 3, n_constit)\n",
    "    Dim 1 ordering: (pT, eta, phi)\n",
    "    Output: batch of jets where the pt of the constituents in each jet has has been re-weighted by some power\n",
    "    Note: rescale pts so that the augmented jet pt matches the original\n",
    "    '''\n",
    "    batchc = batch.copy()\n",
    "    nj = batchc.shape[0]\n",
    "    nc = batchc.shape[2]\n",
    "    for i in range( nj ):\n",
    "        for j in range( nc ):\n",
    "            batchc[i,0,j] = batch[i,0,j]**beta\n",
    "    pts = np.sum( batch[:,0,:], axis=1 )\n",
    "    pts_aug = np.sum( batchc[:,0,:], axis=1 )\n",
    "    pt_rescale = [ pts[i]/pts_aug[i] for i in range(nj) ]\n",
    "    for i in range(nj):\n",
    "        batchc[i,0,:] = batchc[i,0,:]*pt_rescale[i]\n",
    "    return recentre_jet( batchc )"
   ]
  },
  {
   "cell_type": "code",
   "execution_count": 69,
   "metadata": {},
   "outputs": [
    {
     "data": {
      "text/plain": [
       "Text(-0.95, 0.95, '$p_T$-reweight, \\\\texttt{beta}$=\\\\!0.4$')"
      ]
     },
     "execution_count": 69,
     "metadata": {},
     "output_type": "execute_result"
    },
    {
     "data": {
      "image/png": "[encoded data removed]",
      "text/plain": [
       "<Figure size 1296x360 with 3 Axes>"
      ]
     },
     "metadata": {
      "needs_background": "light"
     },
     "output_type": "display_data"
    }
   ],
   "source": [
    "fig, axs = plt.subplots( 1, 3, figsize=(18,5) )\n",
    "\n",
    "jets = qcd[0:100]\n",
    "j = 88\n",
    "jet1 = jets[j]\n",
    "jet2 = pt_reweight_jet( jets, beta=0.7 )[j]\n",
    "jet3 = pt_reweight_jet( jets, beta=0.4 )[j]\n",
    "\n",
    "axs[0].scatter( jet1[1,:], jet1[2,:], s=jet1[0,:], c=\"green\" )\n",
    "axs[1].scatter( jet2[1,:], jet2[2,:], s=jet2[0,:], c=\"green\" )\n",
    "axs[2].scatter( jet3[1,:], jet3[2,:], s=jet3[0,:], c=\"green\" )\n",
    "\n",
    "axs[0].axis('square')\n",
    "axs[1].axis('square')\n",
    "axs[2].axis('square')\n",
    "\n",
    "axs[0].set_xlim((-1.0,1.0))\n",
    "axs[0].set_ylim((-1.0,1.0))\n",
    "axs[1].set_xlim((-1.0,1.0))\n",
    "axs[1].set_ylim((-1.0,1.0))\n",
    "axs[2].set_xlim((-1.0,1.0))\n",
    "axs[2].set_ylim((-1.0,1.0))\n",
    "\n",
    "axs[0].set_xlabel( \"$\\eta$\", fontproperties=axislabelfont)\n",
    "axs[0].set_ylabel( \"$\\phi$\", fontproperties=axislabelfont)\n",
    "axs[1].set_xlabel( \"$\\eta$\", fontproperties=axislabelfont)\n",
    "axs[1].set_ylabel( \"$\\phi$\", fontproperties=axislabelfont)\n",
    "axs[2].set_xlabel( \"$\\eta$\", fontproperties=axislabelfont)\n",
    "axs[2].set_ylabel( \"$\\phi$\", fontproperties=axislabelfont)\n",
    "\n",
    "axs[0].set_xticks( [ -1.0, -0.5, 0.0, 0.5, 1.0 ] )\n",
    "axs[0].set_xticklabels( [ -1.0, -0.5, 0.0, 0.5, 1.0 ], fontproperties=tickfont )\n",
    "axs[1].set_xticks( [ -1.0, -0.5, 0.0, 0.5, 1.0 ] )\n",
    "axs[1].set_xticklabels( [ -1.0, -0.5, 0.0, 0.5, 1.0 ], fontproperties=tickfont )\n",
    "axs[2].set_xticks( [ -1.0, -0.5, 0.0, 0.5, 1.0 ] )\n",
    "axs[2].set_xticklabels( [ -1.0, -0.5, 0.0, 0.5, 1.0 ], fontproperties=tickfont )\n",
    "\n",
    "axs[0].set_yticks( [ -1.0, -0.5, 0.0, 0.5, 1.0 ] )\n",
    "axs[0].set_yticklabels( [ -1.0, -0.5, 0.0, 0.5, 1.0 ], fontproperties=tickfont )\n",
    "axs[1].set_yticks( [ -1.0, -0.5, 0.0, 0.5, 1.0 ] )\n",
    "axs[1].set_yticklabels( [ -1.0, -0.5, 0.0, 0.5, 1.0 ], fontproperties=tickfont )\n",
    "axs[2].set_yticks( [ -1.0, -0.5, 0.0, 0.5, 1.0 ] )\n",
    "axs[2].set_yticklabels( [ -1.0, -0.5, 0.0, 0.5, 1.0 ], fontproperties=tickfont )\n",
    "\n",
    "axs[0].text( -0.95, 0.95,  \"Original\", va='top', ha='left', fontproperties=tickfont )\n",
    "axs[1].text( -0.95, 0.95,  \"$p_T$-reweight, \\\\texttt{beta}$=\\!0.7$\", va='top', ha='left', fontproperties=tickfont )\n",
    "axs[2].text( -0.95, 0.95,  \"$p_T$-reweight, \\\\texttt{beta}$=\\!0.4$\", va='top', ha='left', fontproperties=tickfont )\n",
    "\n",
    "\n",
    "#fig.savefig(\"pt-reweight-aug.pdf\");"
   ]
  },
  {
   "cell_type": "code",
   "execution_count": null,
   "metadata": {},
   "outputs": [],
   "source": []
  }
 ],
 "metadata": {
  "kernelspec": {
   "display_name": "Python 3",
   "language": "python",
   "name": "python3"
  },
  "language_info": {
   "codemirror_mode": {
    "name": "ipython",
    "version": 3
   },
   "file_extension": ".py",
   "mimetype": "text/x-python",
   "name": "python",
   "nbconvert_exporter": "python",
   "pygments_lexer": "ipython3",
   "version": "3.8.2"
  }
 },
 "nbformat": 4,
 "nbformat_minor": 4
}
